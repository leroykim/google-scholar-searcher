{
 "cells": [
  {
   "cell_type": "markdown",
   "id": "e726589e",
   "metadata": {},
   "source": [
    "# Libraries"
   ]
  },
  {
   "cell_type": "code",
   "execution_count": 1,
   "id": "1c816bc2",
   "metadata": {},
   "outputs": [],
   "source": [
    "import os\n",
    "import sys\n",
    "import importlib\n",
    "from pathlib import Path\n",
    "import pandas as pd"
   ]
  },
  {
   "cell_type": "code",
   "execution_count": 2,
   "id": "734a30e2",
   "metadata": {},
   "outputs": [],
   "source": [
    "root_dir = os.getcwd()\n",
    "scholarly_dir = Path(root_dir, 'scholarly')\n",
    "sys.path.insert(0, scholarly_dir)"
   ]
  },
  {
   "cell_type": "code",
   "execution_count": 3,
   "id": "61ab2640",
   "metadata": {},
   "outputs": [],
   "source": [
    "from scholarly.scholarly import scholarly, ProxyGenerator\n",
    "from scholarly.scholarly import MaxTriesExceededException"
   ]
  },
  {
   "cell_type": "code",
   "execution_count": 4,
   "id": "3c81f2fe",
   "metadata": {},
   "outputs": [],
   "source": [
    "# Imports for JupyterLite\n",
    "try:\n",
    "    import piplite\n",
    "    await piplite.install(['ipywidgets'])\n",
    "except ImportError:\n",
    "    pass"
   ]
  },
  {
   "cell_type": "code",
   "execution_count": 5,
   "id": "7d47dbeb",
   "metadata": {},
   "outputs": [],
   "source": [
    "import requests, pickle\n",
    "import ipywidgets as widgets\n",
    "from ipywidgets import GridspecLayout"
   ]
  },
  {
   "cell_type": "markdown",
   "id": "067f6d6a",
   "metadata": {},
   "source": [
    "# Backend"
   ]
  },
  {
   "cell_type": "code",
   "execution_count": 6,
   "id": "922a501c",
   "metadata": {},
   "outputs": [],
   "source": [
    "with open(\"scraper_api_key\", 'r') as file:\n",
    "    scraper_api_key = file.read()"
   ]
  },
  {
   "cell_type": "code",
   "execution_count": 7,
   "id": "ebc733db",
   "metadata": {},
   "outputs": [],
   "source": [
    "class ScholarlySearcherFree(object):\n",
    "    def __init__(self, out):\n",
    "        self.out = out\n",
    "        pg = ProxyGenerator()\n",
    "        if pg.FreeProxies():\n",
    "            self.out.append_stdout(\"Free proxy success.\")\n",
    "            scholarly.use_proxy(pg)\n",
    "        else:\n",
    "            self.out.append_stdout(\"Free proxy failed.\")\n",
    "        \n",
    "    def search(self, keyword):\n",
    "        return scholarly.search_pubs(keyword)\n",
    "    \n",
    "class ScholarlySearcherScraper(object):\n",
    "    def __init__(self, out, scraper_api_key):\n",
    "        self.out = out\n",
    "        pg = ProxyGenerator()\n",
    "        if pg.ScraperAPI(scraper_api_key):\n",
    "            self.out.append_stdout(\"Scraper API proxy success.\")\n",
    "            scholarly.use_proxy(pg)\n",
    "        else:\n",
    "            self.out.append_stdout(\"Scraper API proxy failed.\")\n",
    "        \n",
    "    def search(self, keyword):\n",
    "        return scholarly.search_pubs(keyword)\n"
   ]
  },
  {
   "cell_type": "code",
   "execution_count": 8,
   "id": "477c9f6e",
   "metadata": {},
   "outputs": [],
   "source": [
    "class DataFrameGenerator(object):\n",
    "    def __init__(self, column_names, rows, progress_bar=None):\n",
    "        self.df = pd.DataFrame(columns=column_names, index=range(rows))\n",
    "        self.progress_bar = progress_bar\n",
    "    \n",
    "    def generate(self, query):\n",
    "        for index in range(0,100):\n",
    "            result = next(query)\n",
    "            if \"bib\" in result:\n",
    "                if \"title\" in result['bib']:\n",
    "                    self.df.at[index, 'title'] = result['bib']['title']\n",
    "                if \"author\" in result['bib']:\n",
    "                    self.df.at[index, 'author'] = result['bib']['author']\n",
    "                if \"pub_year\" in result['bib']:\n",
    "                    self.df.at[index, 'pub_year'] = result['bib']['pub_year']\n",
    "                if \"venue\" in result['bib']:\n",
    "                    self.df.at[index, 'venue'] = result['bib']['venue']\n",
    "                if \"abstract\" in result['bib']:\n",
    "                    self.df.at[index, 'abstract'] = result['bib']['abstract']\n",
    "            if \"pub_url\" in result:\n",
    "                self.df.at[index, 'pub_url'] = result['pub_url']\n",
    "            if \"num_citations\" in result:\n",
    "                self.df.at[index, 'num_citations'] = result['num_citations']\n",
    "            if \"eprint_url\" in result:\n",
    "                self.df.at[index, 'eprint_url'] = result['eprint_url']    \n",
    "                \n",
    "                \n",
    "            self.progress_bar.value = index\n",
    "            \n",
    "        return self.df\n",
    "            "
   ]
  },
  {
   "cell_type": "markdown",
   "id": "db1ae762",
   "metadata": {},
   "source": [
    "# GUI"
   ]
  },
  {
   "cell_type": "markdown",
   "id": "271c9a7e",
   "metadata": {},
   "source": [
    "## Widgets"
   ]
  },
  {
   "cell_type": "code",
   "execution_count": 9,
   "id": "43e0654a",
   "metadata": {},
   "outputs": [],
   "source": [
    "keyword_box = widgets.Text(\n",
    "    placeholder='Type keyword',\n",
    "    description='Keyword:',\n",
    "    disabled=False,\n",
    "    #layout=widgets.Layout(width='100%')\n",
    ")\n",
    "\n",
    "search_button = widgets.Button(\n",
    "    description='Search',\n",
    "    disabled=False,\n",
    "    button_style='info',\n",
    "    icon='search',\n",
    "    layout=widgets.Layout(width='100%')\n",
    ")\n",
    "\n",
    "out = widgets.Output(layout={'border': '1px solid black', 'height': '30px', 'margin': '1px'}, )\n",
    "\n",
    "progress = widgets.IntProgress(\n",
    "    value=0,\n",
    "    min=0,\n",
    "    max=99,\n",
    "    step=1,\n",
    "    description='Loading:',\n",
    "    bar_style='success',\n",
    "    orientation='horizontal',\n",
    "    layout=widgets.Layout(width='100%')\n",
    ")"
   ]
  },
  {
   "cell_type": "markdown",
   "id": "e697458a",
   "metadata": {},
   "source": [
    "## Layout"
   ]
  },
  {
   "cell_type": "code",
   "execution_count": 10,
   "id": "8a67bea7",
   "metadata": {},
   "outputs": [],
   "source": [
    "grid = GridspecLayout(2, 3)\n",
    "grid[0,0] = keyword_box\n",
    "grid[0,2] = search_button\n",
    "#grid[0,2] = reset_button\n",
    "grid[1,0] = out\n",
    "grid[1,1:3] = progress"
   ]
  },
  {
   "cell_type": "markdown",
   "id": "4392747b",
   "metadata": {},
   "source": [
    "## Setting up"
   ]
  },
  {
   "cell_type": "code",
   "execution_count": 11,
   "id": "9619b6be",
   "metadata": {},
   "outputs": [],
   "source": [
    "scholarly.set_limit(100)"
   ]
  },
  {
   "cell_type": "code",
   "execution_count": 12,
   "id": "eca2e7d9",
   "metadata": {},
   "outputs": [],
   "source": [
    "column_names = ['title','author', 'pub_year', 'venue', 'abstract', 'pub_url', 'num_citations', 'eprint_url']\n",
    "rows = 100"
   ]
  },
  {
   "cell_type": "code",
   "execution_count": 13,
   "id": "b0449c0c",
   "metadata": {},
   "outputs": [],
   "source": [
    "scholarly_searcher = ScholarlySearcherScraper(out, scraper_api_key)\n",
    "dataframe_generator = DataFrameGenerator(column_names, rows, progress)"
   ]
  },
  {
   "cell_type": "code",
   "execution_count": 14,
   "id": "50df86dd",
   "metadata": {},
   "outputs": [],
   "source": [
    "def disable_button(button):\n",
    "    if button.disabled == False:\n",
    "        button.disabled = True\n",
    "        button.description = \"Wait until progress bar starts.\"\n",
    "        button.button_style = 'warning'\n",
    "        button.icon = 'fa-spinner'\n",
    "        \n",
    "def enable_button(button):\n",
    "    if button.disabled == True:\n",
    "        button.disabled=False\n",
    "        button.description='Search'\n",
    "        button.button_style='info'\n",
    "        button.icon = 'search'\n",
    "\n",
    "def blocked_button(button):\n",
    "    button.disabled=True\n",
    "    button.description=\"Blocked. Try again later.\"\n",
    "    button.button_style='danger'\n",
    "    button.icon = 'fa-ban'\n"
   ]
  },
  {
   "cell_type": "code",
   "execution_count": 15,
   "id": "6d86ec08",
   "metadata": {},
   "outputs": [],
   "source": [
    "def search_button_callback(button):\n",
    "    disable_button(button)\n",
    "    try:\n",
    "        query = scholarly_searcher.search(keyword_box.value)\n",
    "        df = dataframe_generator.generate(query)\n",
    "        df.to_excel(f\"{keyword_box.value}.xlsx\") \n",
    "        enable_button(button)\n",
    "        #progress.value=0\n",
    "    except MaxTriesExceededException:\n",
    "        blocked_button(button)\n",
    "\n",
    "search_button.on_click(search_button_callback)"
   ]
  },
  {
   "cell_type": "markdown",
   "id": "505c62ec",
   "metadata": {},
   "source": [
    "## App"
   ]
  },
  {
   "cell_type": "code",
   "execution_count": 16,
   "id": "4be407dc",
   "metadata": {
    "scrolled": false
   },
   "outputs": [
    {
     "data": {
      "application/vnd.jupyter.widget-view+json": {
       "model_id": "cf881a64c4c648f1ba4d5d6cb0f3066b",
       "version_major": 2,
       "version_minor": 0
      },
      "text/plain": [
       "GridspecLayout(children=(Text(value='', description='Keyword:', layout=Layout(grid_area='widget001'), placehol…"
      ]
     },
     "metadata": {},
     "output_type": "display_data"
    }
   ],
   "source": [
    "grid"
   ]
  },
  {
   "cell_type": "code",
   "execution_count": null,
   "id": "c4b379ed",
   "metadata": {},
   "outputs": [],
   "source": []
  }
 ],
 "metadata": {
  "kernelspec": {
   "display_name": "Python 3 (ipykernel)",
   "language": "python",
   "name": "python3"
  },
  "language_info": {
   "codemirror_mode": {
    "name": "ipython",
    "version": 3
   },
   "file_extension": ".py",
   "mimetype": "text/x-python",
   "name": "python",
   "nbconvert_exporter": "python",
   "pygments_lexer": "ipython3",
   "version": "3.9.12"
  }
 },
 "nbformat": 4,
 "nbformat_minor": 5
}
